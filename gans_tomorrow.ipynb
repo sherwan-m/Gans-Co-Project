{
 "cells": [
  {
   "cell_type": "code",
   "execution_count": 591,
   "metadata": {},
   "outputs": [],
   "source": [
    "import pandas as pd\n",
    "import requests\n",
    "import json\n",
    "from datetime import datetime, timedelta, date, time\n",
    "import numpy as np\n",
    "from my_keys import *"
   ]
  },
  {
   "cell_type": "code",
   "execution_count": 590,
   "metadata": {},
   "outputs": [],
   "source": [
    "# get timestamp in correct format for tomorrow 0,12 and 24 \n",
    "def get_tomorrow():\n",
    "    #make tomorow day, by adding one day to today\n",
    "    date_tomorrow = date.today() + timedelta(days=1)\n",
    "    #make three times: 00:00:00,12:00:00,23:59:59\n",
    "    time_start = time(hour=0, minute=0, second=0)\n",
    "    time_middle = time(hour=12, minute=0, second=0)\n",
    "    time_end = time(hour=23, minute=59, second=59)\n",
    "    #combine tomorow day and the times\n",
    "    datetime_start = datetime.combine(date_tomorrow, time_start).strftime('%Y-%m-%dT%H:%M')\n",
    "    datetime_middle = datetime.combine(date_tomorrow, time_middle).strftime('%Y-%m-%dT%H:%M')\n",
    "    datetime_end = datetime.combine(date_tomorrow, time_end).strftime('%Y-%m-%dT%H:%M')\n",
    "    #return three tomorow times\n",
    "    return datetime_start,datetime_middle,datetime_end"
   ]
  },
  {
   "cell_type": "code",
   "execution_count": 535,
   "metadata": {},
   "outputs": [],
   "source": [
    "# weather_forcast function that het a list of citie names and return the weather_forcast for tomorow\n",
    "def weather_forcast(cities_df):\n",
    "   \n",
    "    \n",
    "    cities_list  = []\n",
    "    \n",
    "    weather_list = []\n",
    "    error =[]\n",
    "    for index, city in cities_df.iterrows():\n",
    "        city_r = requests.get(f\"http://api.openweathermap.org/data/2.5/forecast?q={city['city']}&appid={my_openweather_api_key}&units=metric\")\n",
    "        \n",
    "        if city_r.status_code != 200:\n",
    "            error.append(city+\" got errpr code: \"+ str(city_r.status_code))\n",
    "            break\n",
    "        \n",
    "        city_j = city_r.json()\n",
    "        \n",
    "        cities_list.append(city_j['city'])\n",
    "        \n",
    "\n",
    "        for detail in city_j['list']:\n",
    "            weather_details_dic = {}\n",
    "            \n",
    "            # weather_details_dic[\"city_name\"] = city_j['city']['name']\n",
    "            weather_details_dic[\"temperature\"] = detail['main']['temp']\n",
    "            weather_details_dic[\"temp_min\"] = detail['main']['temp_min']\n",
    "            weather_details_dic[\"temp_max\"] = detail['main']['temp_max']\n",
    "            weather_details_dic[\"feels_like\"] = detail['main']['feels_like']\n",
    "            weather_details_dic[\"pressure\"] = detail['main']['pressure']\n",
    "            weather_details_dic[\"humidity\"] = detail['main']['humidity']\n",
    "            weather_details_dic[\"weather\"] = detail['weather'][0]['main']\n",
    "            weather_details_dic[\"weather_description\"] = detail['weather'][0]['description']\n",
    "            weather_details_dic[\"clouds\"] = detail['clouds']['all']\n",
    "            weather_details_dic[\"wind_speed\"] = detail['wind']['speed']\n",
    "            weather_details_dic[\"date_time_3h\"] = detail['dt_txt']\n",
    "            # weather_details_dic[\"city_id\"] = city_j['city']['id']\n",
    "            weather_details_dic[\"city_id\"] = city['city_id']\n",
    "            weather_list.append(weather_details_dic)\n",
    "    \n",
    "    \n",
    "    df_weather = pd.DataFrame(weather_list)\n",
    "    dt_start,dt_middle,dt_end = get_tomorrow()\n",
    "    df_weather['date_time_3h'] = pd.to_datetime(df_weather['date_time_3h'])\n",
    "    df_weather = df_weather.loc[lambda df_ : (df_['date_time_3h'] >= dt_start) &  (df_['date_time_3h'] <= dt_end)]\n",
    "    \n",
    "    \n",
    "    df_cities = pd.json_normalize(cities_list)\n",
    "    df_cities.rename(columns={'id':'city_id'}, inplace=True)\n",
    "    \n",
    "    return df_weather,df_cities,error"
   ]
  },
  {
   "cell_type": "code",
   "execution_count": 510,
   "metadata": {},
   "outputs": [],
   "source": [
    "import re\n",
    "from bs4 import BeautifulSoup\n",
    "\n",
    "\n",
    "def get_cities(cities_list):\n",
    "\n",
    "    city_columns= ['id', 'wikiDataId', 'type', 'name', 'country', 'countryCode', 'region', 'mayor', 'elevationMeters', 'latitude', 'longitude',\t'population', 'timezone']\n",
    "    cities_df = pd.DataFrame(columns= city_columns)\n",
    "    for city in cities_list :\n",
    "        wiki_url = f\"https://en.wikipedia.org/wiki/{city}\"\n",
    "\n",
    "        wiki_city_r = requests.get(wiki_url)\n",
    "        wiki_city_soup = BeautifulSoup(wiki_city_r.content, \"html.parser\")\n",
    "        try: city_mayor = wiki_city_soup.find('a' , text = re.compile(\".*Mayor.*\")).parent.parent.find('td').find('a').string\n",
    "        except: city_mayor = 'Unknown'\n",
    "        #  city_wiki_id = wiki_city_soup.select('li#t-wikibase.mw-list-item a')[0]['href'].split('/')[-1]\n",
    "        city_wiki_id = wiki_city_soup.select('div#mw-navigation div#mw-panel nav#p-tb div.vector-menu-content ul.vector-menu-content-list li#t-wikibase.mw-list-item a')[0]['href'].split('/')[-1]\n",
    "        \n",
    "        url = f\"https://wft-geo-db.p.rapidapi.com/v1/geo/cities/{city_wiki_id}\"\n",
    "\n",
    "        headers = {\n",
    "\t                \"X-RapidAPI-Key\": \"84c9131c0dmsh2cb633d63800cd4p15f8f9jsn1298da2c4cd0\",\n",
    "\t                \"X-RapidAPI-Host\": \"wft-geo-db.p.rapidapi.com\"\n",
    "                    }\n",
    "\n",
    "        city_informatin_r = requests.request(\"GET\", url, headers=headers)\n",
    "        city_informatin_j = city_informatin_r.json()\n",
    "        city_informatin_df = pd.json_normalize(city_informatin_j['data'])\n",
    "        city_informatin_df[\"mayor\"] = city_mayor\n",
    "        city_informatin_df = city_informatin_df[city_columns]\n",
    "        cities_df = pd.concat([cities_df,city_informatin_df])\n",
    "    city_columns_rename= {'id' : 'city_id', 'wikiDataId' : 'wiki_data_id', 'name' : 'city', 'elevationMeters' : 'elevation', 'countryCode' : 'country_code'}\n",
    "    cities_df.rename(columns = city_columns_rename, inplace=True)\n",
    "    cities_df['population'] = pd.to_numeric(cities_df['population'])\n",
    "    cities_df['city_id'] = pd.to_numeric(cities_df['city_id'])\n",
    "    cities_df.reset_index(drop=True, inplace= True)\n",
    "    return cities_df"
   ]
  },
  {
   "cell_type": "code",
   "execution_count": 542,
   "metadata": {},
   "outputs": [],
   "source": [
    "def get_citys_airports(city_name, country_iso2, city_id):\n",
    "    \n",
    "\turl = \"https://aerodatabox.p.rapidapi.com/airports/search/term\"\n",
    "\n",
    "\tquerystring = {\"q\":city_name,\"limit\":\"10\"}\n",
    "\n",
    "\theaders = {\n",
    "\t\t\"X-RapidAPI-Key\": my_RapidAPI_key,\n",
    "\t\t\"X-RapidAPI-Host\": \"aerodatabox.p.rapidapi.com\"\n",
    "\t}\n",
    "\terror = []\n",
    "\tairports_r = requests.request(\"GET\", url, headers=headers, params=querystring)\n",
    "\tcolumns=['icao','iata','name','short_name','longitude_deg','iso_country','latitude_deg','city_name','city_id']\n",
    "\tempty_df = pd.DataFrame(columns=columns)\n",
    "\tif airports_r.status_code != 200:\n",
    "\t\terror.append(city_name + \" got errpr code: \"+ str(airports_r.status_code))\n",
    "\t\treturn empty_df,error\n",
    "    \n",
    "\tairports_j = airports_r.json()\n",
    "\tif len(airports_j['items'])==0:\n",
    "\t\terror.append(city_name + \" has no airport\")\n",
    "\t\treturn empty_df,error\n",
    "\tdf_airports =pd.json_normalize(airports_j['items'])\n",
    "\tdf_airports = df_airports.loc[lambda df_ : df_['countryCode'] == country_iso2]\n",
    "\tdf_airports.rename(columns={'location.lat' : 'latitude_deg', 'location.lon' : 'longitude_deg', 'municipalityName': 'city_name', 'countryCode' : 'iso_country',\n",
    "                             'shortName' : 'short_name'}, inplace=True)\n",
    "\tdf_airports['city_id'] = pd.to_numeric(city_id)\n",
    "\tdf_airports = df_airports[columns]\n",
    "\treturn df_airports,error"
   ]
  },
  {
   "cell_type": "code",
   "execution_count": 571,
   "metadata": {},
   "outputs": [],
   "source": [
    "def get_arrival_flights(airports):\n",
    "    \n",
    "    # make api call to receive flight information\n",
    "    columns=['flight_NO', 'flight_status', 'dep_airport', 'dep_airport_icao', 'dep_airport_iata','sched_arr_loc_time',\n",
    "                                    'sched_arr_Utc', 'terminal' , 'airline','aircraf', 'icao']\n",
    "    rename_dict= {'number':'flight_NO', 'status':'flight_status', \n",
    "                        'movement.airport.name' : 'dep_airport','movement.airport.icao' : 'dep_airport_icao', 'movement.airport.iata':'dep_airport_iata', \n",
    "                        'movement.scheduledTimeLocal' : 'sched_arr_loc_time', 'movement.scheduledTimeUtc' : 'sched_arr_Utc', 'movement.terminal': 'terminal',\n",
    "                        'airline.name':'airline', 'aircraft.model' :'aircraf'}\n",
    "    arrival_flights_df = pd.DataFrame(columns=columns)\n",
    "    error = []\n",
    "    dt_start,dt_middle,dt_end = get_tomorrow()\n",
    "    \n",
    "    for index,airport in airports.iterrows():\n",
    "        url = f\"https://aerodatabox.p.rapidapi.com/flights/airports/icao/{airport['icao']}/{dt_middle}/{dt_end}\"\n",
    "        querystring = {\"withLeg\":\"false\",\"direction\":\"Arrival\",\"withCancelled\":\"false\",\"withCodeshared\":\"false\",\"withCargo\":\"false\",\"withPrivate\":\"false\",\"withLocation\":\"false\"}\n",
    "        headers = {\n",
    "            \"X-RapidAPI-Key\": my_RapidAPI_key,\n",
    "            \"X-RapidAPI-Host\": \"aerodatabox.p.rapidapi.com\"\n",
    "        }\n",
    "\n",
    "        arrivals_r = requests.request(\"GET\", url, headers=headers, params=querystring)\n",
    "        \n",
    "        if arrivals_r.status_code != 200:\n",
    "            error.append(airport['icao'] + \" got errpr code: \" + str(arrivals_r.status_code))\n",
    "            continue\n",
    "        \n",
    "        arrivals_j = arrivals_r.json()\n",
    "        \n",
    "        if len(arrivals_j['arrivals'])==0:\n",
    "            error.append(airport['icao'] + \" has no flight\")\n",
    "            continue\n",
    "        \n",
    "        arrivals_df = pd.json_normalize(arrivals_j['arrivals']).sort_values(by='movement.scheduledTimeLocal')\n",
    "\n",
    "        \n",
    "        # clean df\n",
    "        # arrivals_df = arrivals_df.loc[lambda df_ : df_['isCargo']== False]\n",
    "        \n",
    "        try: arrivals_df = arrivals_df[['number', 'status', \n",
    "                        'movement.airport.name','movement.airport.icao', 'movement.airport.iata', \n",
    "                        'movement.scheduledTimeLocal', 'movement.scheduledTimeUtc', 'movement.terminal'\n",
    "                        'airline.name', 'aircraft.model']]\n",
    "        except: arrivals_df = arrivals_df[['number', 'status', \n",
    "                        'movement.airport.name','movement.airport.icao', 'movement.airport.iata', \n",
    "                        'movement.scheduledTimeLocal', 'movement.scheduledTimeUtc',\n",
    "                        'airline.name', 'aircraft.model']]\n",
    "        \n",
    "        arrivals_df.rename(columns=rename_dict , inplace=True)\n",
    "        arrivals_df['icao'] = airport['icao']\n",
    "    \n",
    "        arrival_flights_df = pd.concat([arrival_flights_df,arrivals_df])\n",
    "\n",
    "    return arrival_flights_df,error\n"
   ]
  },
  {
   "cell_type": "code",
   "execution_count": null,
   "metadata": {},
   "outputs": [],
   "source": [
    "#PART1\n",
    "cities = ['Berlin','Paris','Amsterdam','Barcelona','Rome','Lisbon','Prague','Vienna','Madrid']\n",
    "cities_df = get_cities(cities)"
   ]
  },
  {
   "cell_type": "code",
   "execution_count": 530,
   "metadata": {},
   "outputs": [],
   "source": [
    "#PART2\n",
    "weather_data, cities_df_2 ,cities_error= weather_forcast(cities_df)"
   ]
  },
  {
   "cell_type": "code",
   "execution_count": 543,
   "metadata": {},
   "outputs": [],
   "source": [
    "#PART3\n",
    "\n",
    "airports_df = pd.DataFrame(columns=['icao','iata','name','short_name','longitude_deg','iso_country','latitude_deg','city_name','city_id'])\n",
    "\n",
    "# airports_df = pd.concat([get_citys_airports(city['city'] ,city['country_code'],city['city_id']) for index,city in cities_df.iterrows()])\n",
    "\n",
    "for index,city in cities_df.iterrows():\n",
    "    city_airports, airports_error = get_citys_airports(city['city'] ,city['country_code'],city['city_id'])\n",
    "    airports_df = pd.concat([airports_df,city_airports])\n",
    "airports_df.reset_index(drop=True, inplace=True)\n"
   ]
  },
  {
   "cell_type": "code",
   "execution_count": 589,
   "metadata": {},
   "outputs": [],
   "source": [
    "# airports_df"
   ]
  },
  {
   "cell_type": "code",
   "execution_count": 572,
   "metadata": {},
   "outputs": [],
   "source": [
    "#PART4\n",
    "# arrival_flights_df = pd.DataFrame(columns=['flight_NO', 'flight_status', 'dep_airport', 'dep_airport_icao', 'dep_airport_iata','sched_arr_loc_time',\n",
    "                                    # 'sched_arr_Utc', 'terminal' , 'airline','aircraf', 'icao'])\n",
    "\n",
    "# arrival_flights,flights_error = get_arrival_flights(airports_df)\n",
    "# arrival_flights_df = pd.concat([arrival_flights_df,arrival_flights])\n",
    "# arrival_flights_df.reset_index(drop=True, inplace=True)\n",
    "\n",
    "arrival_flights_df,flights_error = get_arrival_flights(airports_df)"
   ]
  },
  {
   "cell_type": "markdown",
   "metadata": {},
   "source": [
    "save the data in mysql"
   ]
  },
  {
   "cell_type": "code",
   "execution_count": 302,
   "metadata": {},
   "outputs": [],
   "source": [
    "import pandas as pd\n",
    "import sqlalchemy\n",
    "import pymysql"
   ]
  },
  {
   "cell_type": "code",
   "execution_count": 584,
   "metadata": {},
   "outputs": [],
   "source": [
    "\n",
    "con = f'mysql+pymysql://{user}:{password}@{host}:{port}/{schema}'"
   ]
  },
  {
   "cell_type": "code",
   "execution_count": 585,
   "metadata": {},
   "outputs": [
    {
     "data": {
      "text/plain": [
       "9"
      ]
     },
     "execution_count": 585,
     "metadata": {},
     "output_type": "execute_result"
    }
   ],
   "source": [
    "cities_df['elevation'] =cities_df['elevation'].fillna(value=0)\n",
    "(\n",
    "cities_df\n",
    "    .to_sql('cities', con=con, if_exists='append', index=False)\n",
    "    )"
   ]
  },
  {
   "cell_type": "code",
   "execution_count": 587,
   "metadata": {},
   "outputs": [
    {
     "data": {
      "text/plain": [
       "16"
      ]
     },
     "execution_count": 587,
     "metadata": {},
     "output_type": "execute_result"
    }
   ],
   "source": [
    "airports_df.to_sql('airports', con=con, if_exists='append', index=False)"
   ]
  },
  {
   "cell_type": "code",
   "execution_count": 586,
   "metadata": {},
   "outputs": [
    {
     "data": {
      "text/plain": [
       "72"
      ]
     },
     "execution_count": 586,
     "metadata": {},
     "output_type": "execute_result"
    }
   ],
   "source": [
    "weather_data.to_sql('weather', con=con, if_exists='append', index=False)"
   ]
  },
  {
   "cell_type": "code",
   "execution_count": 588,
   "metadata": {},
   "outputs": [
    {
     "data": {
      "text/plain": [
       "3568"
      ]
     },
     "execution_count": 588,
     "metadata": {},
     "output_type": "execute_result"
    }
   ],
   "source": [
    "arrival_flights_df.fillna(value =\"Unknown\").to_sql('arrivals', con=con, if_exists='append', index=False)"
   ]
  }
 ],
 "metadata": {
  "kernelspec": {
   "display_name": "Python 3.10.2 64-bit",
   "language": "python",
   "name": "python3"
  },
  "language_info": {
   "codemirror_mode": {
    "name": "ipython",
    "version": 3
   },
   "file_extension": ".py",
   "mimetype": "text/x-python",
   "name": "python",
   "nbconvert_exporter": "python",
   "pygments_lexer": "ipython3",
   "version": "3.10.2"
  },
  "orig_nbformat": 4,
  "vscode": {
   "interpreter": {
    "hash": "7a00de2d03a2cdd800050a5fd9903e27ef0ab168083508fb826c5866b9462f56"
   }
  }
 },
 "nbformat": 4,
 "nbformat_minor": 2
}
