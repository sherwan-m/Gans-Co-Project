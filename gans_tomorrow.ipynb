{
 "cells": [
  {
   "cell_type": "code",
   "execution_count": null,
   "metadata": {},
   "outputs": [],
   "source": []
  },
  {
   "cell_type": "code",
   "execution_count": 1,
   "metadata": {},
   "outputs": [],
   "source": [
    "import pandas as pd\n",
    "import requests\n",
    "import json\n",
    "\n",
    "my_free_api_key = '9a2c24d00b614ff1d74a08f03054ef53'"
   ]
  },
  {
   "cell_type": "code",
   "execution_count": null,
   "metadata": {},
   "outputs": [],
   "source": [
    "def weather_forcast(list_of_cities):\n",
    "      \n",
    "    cities_list  = []\n",
    "    weather_list = []\n",
    "    \n",
    "    for city in list_of_cities :\n",
    "        city_r = requests.get(f\"http://api.openweathermap.org/data/2.5/forecast?q={city}&appid={my_free_api_key}&units=metric\")\n",
    "        city_j = city_r.json()\n",
    "        \n",
    "        cities_list.append(city_j['city'])\n",
    "        \n",
    "\n",
    "        for detail in city_j['list']:\n",
    "            weather_details_dic = {}\n",
    "            weather_details_dic[\"city_id\"] = city_j['city']['id']\n",
    "            weather_details_dic[\"city_name\"] = city_j['city']['name']\n",
    "            weather_details_dic[\"temp\"] = detail['main']['temp']\n",
    "            weather_details_dic[\"temp_min\"] = detail['main']['temp_min']\n",
    "            weather_details_dic[\"temp_max\"] = detail['main']['temp_max']\n",
    "            weather_details_dic[\"feels_like\"] = detail['main']['feels_like']\n",
    "            weather_details_dic[\"pressure\"] = detail['main']['pressure']\n",
    "            weather_details_dic[\"humidity\"] = detail['main']['humidity']\n",
    "            weather_details_dic[\"weather\"] = detail['weather'][0]['main']\n",
    "            weather_details_dic[\"weather_description\"] = detail['weather'][0]['description']\n",
    "            weather_details_dic[\"clouds\"] = detail['clouds']['all']\n",
    "            weather_details_dic[\"wind_speed\"] = detail['wind']['speed']\n",
    "            weather_details_dic[\"date_time\"] = detail['dt_txt']\n",
    "            weather_list.append(weather_details_dic)\n",
    "    df_weather = pd.DataFrame(weather_list)\n",
    "    df_cities = pd.json_normalize(cities_list)\n",
    "    \n",
    "    return df_weather,df_cities"
   ]
  },
  {
   "cell_type": "code",
   "execution_count": 2,
   "metadata": {},
   "outputs": [
    {
     "name": "stdout",
     "output_type": "stream",
     "text": [
      "{\"items\":[{\"icao\":\"EGSS\",\"iata\":\"STN\",\"name\":\"London, London Stansted\",\"shortName\":\"Stansted\",\"municipalityName\":\"London\",\"location\":{\"lat\":51.885,\"lon\":0.234999},\"countryCode\":\"GB\"},{\"icao\":\"EGLL\",\"iata\":\"LHR\",\"name\":\"London, London Heathrow\",\"shortName\":\"Heathrow\",\"municipalityName\":\"London\",\"location\":{\"lat\":51.4706,\"lon\":-0.461941},\"countryCode\":\"GB\"},{\"icao\":\"EGLC\",\"iata\":\"LCY\",\"name\":\"London, London City\",\"shortName\":\"City\",\"municipalityName\":\"London\",\"location\":{\"lat\":51.5053,\"lon\":0.055277},\"countryCode\":\"GB\"},{\"icao\":\"EGKK\",\"iata\":\"LGW\",\"name\":\"London, London Gatwick\",\"shortName\":\"Gatwick\",\"municipalityName\":\"London\",\"location\":{\"lat\":51.1481,\"lon\":-0.190277},\"countryCode\":\"GB\"},{\"icao\":\"EGGW\",\"iata\":\"LTN\",\"name\":\"London, London Luton\",\"shortName\":\"Luton\",\"municipalityName\":\"London\",\"location\":{\"lat\":51.8747,\"lon\":-0.368333},\"countryCode\":\"GB\"},{\"icao\":\"KLOZ\",\"iata\":\"LOZ\",\"name\":\"London, London-Corbin /Magee Field\",\"shortName\":\"-Corbin /Magee Field\",\"municipalityName\":\"London\",\"location\":{\"lat\":37.0822,\"lon\":-84.0849},\"countryCode\":\"US\"},{\"icao\":\"KGON\",\"iata\":\"GON\",\"name\":\"Groton (New London), Groton New London\",\"shortName\":\"Groton New London\",\"municipalityName\":\"Groton (New London)\",\"location\":{\"lat\":41.3301,\"lon\":-72.0451},\"countryCode\":\"US\"},{\"icao\":\"FAEL\",\"iata\":\"ELS\",\"name\":\"East London, Ben Schoeman\",\"shortName\":\"Ben Schoeman\",\"municipalityName\":\"East London\",\"location\":{\"lat\":-33.0356,\"lon\":27.8259},\"countryCode\":\"ZA\"},{\"icao\":\"CYXU\",\"iata\":\"YXU\",\"name\":\"London\",\"shortName\":\"London\",\"municipalityName\":\"London\",\"location\":{\"lat\":43.0356,\"lon\":-81.1539},\"countryCode\":\"CA\"},{\"icao\":\"EGKB\",\"iata\":\"BQH\",\"name\":\"London, London Biggin Hill\",\"shortName\":\"Biggin Hill\",\"municipalityName\":\"London\",\"location\":{\"lat\":51.3308,\"lon\":0.032499},\"countryCode\":\"GB\"}]}\n"
     ]
    }
   ],
   "source": [
    "import requests\n",
    "\n",
    "url = \"https://aerodatabox.p.rapidapi.com/airports/search/term\"\n",
    "\n",
    "querystring = {\"q\":\"london\",\"limit\":\"10\"}\n",
    "\n",
    "headers = {\n",
    "\t\"X-RapidAPI-Key\": \"5271551a49mshc194f542b6dc600p113722jsn431b32cb69ab\",\n",
    "\t\"X-RapidAPI-Host\": \"aerodatabox.p.rapidapi.com\"\n",
    "}\n",
    "\n",
    "response = requests.request(\"GET\", url, headers=headers, params=querystring)\n",
    "\n",
    "print(response.text)"
   ]
  },
  {
   "cell_type": "code",
   "execution_count": 14,
   "metadata": {},
   "outputs": [
    {
     "data": {
      "text/plain": [
       "[{'icao': 'EGSS',\n",
       "  'iata': 'STN',\n",
       "  'name': 'London, London Stansted',\n",
       "  'shortName': 'Stansted',\n",
       "  'municipalityName': 'London',\n",
       "  'location': {'lat': 51.885, 'lon': 0.234999},\n",
       "  'countryCode': 'GB'},\n",
       " {'icao': 'EGLL',\n",
       "  'iata': 'LHR',\n",
       "  'name': 'London, London Heathrow',\n",
       "  'shortName': 'Heathrow',\n",
       "  'municipalityName': 'London',\n",
       "  'location': {'lat': 51.4706, 'lon': -0.461941},\n",
       "  'countryCode': 'GB'},\n",
       " {'icao': 'EGLC',\n",
       "  'iata': 'LCY',\n",
       "  'name': 'London, London City',\n",
       "  'shortName': 'City',\n",
       "  'municipalityName': 'London',\n",
       "  'location': {'lat': 51.5053, 'lon': 0.055277},\n",
       "  'countryCode': 'GB'},\n",
       " {'icao': 'EGKK',\n",
       "  'iata': 'LGW',\n",
       "  'name': 'London, London Gatwick',\n",
       "  'shortName': 'Gatwick',\n",
       "  'municipalityName': 'London',\n",
       "  'location': {'lat': 51.1481, 'lon': -0.190277},\n",
       "  'countryCode': 'GB'},\n",
       " {'icao': 'EGGW',\n",
       "  'iata': 'LTN',\n",
       "  'name': 'London, London Luton',\n",
       "  'shortName': 'Luton',\n",
       "  'municipalityName': 'London',\n",
       "  'location': {'lat': 51.8747, 'lon': -0.368333},\n",
       "  'countryCode': 'GB'},\n",
       " {'icao': 'EGKB',\n",
       "  'iata': 'BQH',\n",
       "  'name': 'London, London Biggin Hill',\n",
       "  'shortName': 'Biggin Hill',\n",
       "  'municipalityName': 'London',\n",
       "  'location': {'lat': 51.3308, 'lon': 0.032499},\n",
       "  'countryCode': 'GB'}]"
      ]
     },
     "execution_count": 14,
     "metadata": {},
     "output_type": "execute_result"
    }
   ],
   "source": [
    "airports_j = response.json()\n",
    "# airports_j['items']\n",
    "\n",
    "right_airports = [airport_j for airport_j in airports_j['items'] if airport_j['countryCode']=='GB'] \n",
    "right_airports\n"
   ]
  }
 ],
 "metadata": {
  "kernelspec": {
   "display_name": "Python 3.10.2 64-bit",
   "language": "python",
   "name": "python3"
  },
  "language_info": {
   "codemirror_mode": {
    "name": "ipython",
    "version": 3
   },
   "file_extension": ".py",
   "mimetype": "text/x-python",
   "name": "python",
   "nbconvert_exporter": "python",
   "pygments_lexer": "ipython3",
   "version": "3.10.2"
  },
  "orig_nbformat": 4,
  "vscode": {
   "interpreter": {
    "hash": "7a00de2d03a2cdd800050a5fd9903e27ef0ab168083508fb826c5866b9462f56"
   }
  }
 },
 "nbformat": 4,
 "nbformat_minor": 2
}
